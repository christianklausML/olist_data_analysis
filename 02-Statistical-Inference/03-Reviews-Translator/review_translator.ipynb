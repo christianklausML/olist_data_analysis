{
 "cells": [
  {
   "cell_type": "markdown",
   "metadata": {},
   "source": [
    "# Olist reviews' - Translations...\n",
    "\n",
    "* Unless you speak 🇧🇷 Brazilian Portuguese, let's translate the `order_reviews` in 🇬🇧 English !\n",
    "\n",
    "* You will need to install  `pip install googletrans==4.0.0-rc1`"
   ]
  },
  {
   "cell_type": "markdown",
   "metadata": {},
   "source": [
    "## Review Translator"
   ]
  },
  {
   "cell_type": "markdown",
   "metadata": {},
   "source": [
    "👉 Load the `reviews` and select a sample of rewiews associated to a one-star rating"
   ]
  },
  {
   "cell_type": "code",
   "execution_count": 1,
   "metadata": {},
   "outputs": [],
   "source": [
    "# Load data \n",
    "from olist.data import Olist\n",
    "data = Olist().get_data()"
   ]
  },
  {
   "cell_type": "markdown",
   "metadata": {},
   "source": [
    "👀 Select a sample of 20 low scores reviews (randomly) and convert it into a list."
   ]
  },
  {
   "cell_type": "code",
   "execution_count": 2,
   "metadata": {
    "tags": [
     "challengify"
    ]
   },
   "outputs": [],
   "source": [
    "low_reviews_sample =\\\n",
    "    data['order_reviews'].dropna().query(\"review_score==1\").sample(20)\n",
    "\n",
    "low_reviews_sample_list=\\\n",
    "    low_reviews_sample['review_comment_message'].tolist()"
   ]
  },
  {
   "cell_type": "markdown",
   "metadata": {},
   "source": [
    "🗣 Translate these reviews using the `google_translator` package you've previously installed before starting this challenge:"
   ]
  },
  {
   "cell_type": "code",
   "execution_count": 3,
   "metadata": {
    "tags": [
     "challengify"
    ]
   },
   "outputs": [
    {
     "name": "stdout",
     "output_type": "stream",
     "text": [
      "Bad material, lack of respect for consumer, send the colors that well understand \n",
      "\n",
      "The right packaging did not come \n",
      "\n",
      "At the time of purchase it is written that it was 30 boxes by 9.90 and only came 1 and still charges me the freight double the product I want to return. \n",
      "\n",
      "I do not know what to say!!! \n",
      "\n",
      "The single single product was missing. \n",
      "\n",
      "Good Morning\n",
      "\n",
      "I bought 5 chairs and only received 4.\n",
      "I need to know what my reimbursement of 1 chair will be like. \n",
      "\n",
      "The product came correct but the instruction manual was missing, I contacted the company but I did not get an answer, the equipment is stopped because I have no references of how to use! \n",
      "\n",
      "Pure misleading advertising.\n",
      "I bought one product and gave me another, I'm trying to contact and so far nothing.I do not recommend. \n",
      "\n",
      "I would still give another time to respond, due to truckers' strike disorder, but Lannister stores are questioning me through emails to find out if I received it.Not received.Ready! \n",
      "\n",
      "I received the sealed box, but the watch box was empty.I looked for a trusted site to buy my watch and ended up receiving an empty box.This is absurd. \n",
      "\n",
      "The product is of poor quality.They should put in the description that it was a replica.Unable to give someone with that.HORRIBLE.I paid more than R $ 80 in 1.99 stores toy \n",
      "\n",
      "I am in doubt if it is an original product the Maria Scandalosa kit ... because the name of the product is a glued paper ... I am in doubt but I have not used it yet. \n",
      "\n",
      "The sheet came with a hole! \n",
      "\n",
      "Of the 7 products I bought we received only 1 I sent a message but so far without response \n",
      "\n",
      "My product came wrong.Another we are.I made contact on the day of receipt on the 24th for return and so far nda ... I'm waiting yet ... \n",
      "\n",
      "Missed 1 product and those I received 1 came broken \n",
      "\n",
      "Good Morning\n",
      "I like to buy for Lannister more this time I made the wrong choice, I think when choosing the partners they have to fulfill what he announces. \n",
      "\n",
      "Product paid in sight and was not delivered \n",
      "\n",
      "I received the clock in the afternoon, more precisely at 6:05 pm on the same day the analogic pointers stopped working.I'm not using a solution to the problem. \n",
      "\n",
      "I did not receive the shawl from the couch, but when calling, it is said that I already received. \n",
      "\n"
     ]
    }
   ],
   "source": [
    "from googletrans import Translator\n",
    "translator = Translator()\n",
    "\n",
    "translations = []\n",
    "for review in low_reviews_sample_list:\n",
    "    translation = translator.translate(review, src='pt', dest='en')\n",
    "    print(translation.text, '\\n')\n",
    "    translations.append(translation)"
   ]
  },
  {
   "cell_type": "markdown",
   "metadata": {},
   "source": [
    "**Insights** 💡\n",
    "- Some bad reviews are linked to the delivery (`wait_time`, missed deadline,  etc...)\n",
    "- But some bad reviews are linked to the seller or the product...\n",
    "\n",
    "How can we differentiate between the two possible causes?\n",
    "\n",
    "That's something important Olist needs to know:\n",
    "- should we remove some products from the catalogue?\n",
    "- or remove some sellers from their marketplace?\n",
    "\n",
    "🗓 Agenda:\n",
    "\n",
    "* 👀 We still have 3 days to analyse Olist, and you can continue later after the bootcamp to practice your data analyst skills\n",
    "\n",
    "* 🗣 We will run some `Natural Language Processing` algorithms on the Day 10 of Machine Learning to extract some information about these reviews\n"
   ]
  }
 ],
 "metadata": {
  "kernelspec": {
   "display_name": "Python 3 (ipykernel)",
   "language": "python",
   "name": "python3"
  },
  "language_info": {
   "codemirror_mode": {
    "name": "ipython",
    "version": 3
   },
   "file_extension": ".py",
   "mimetype": "text/x-python",
   "name": "python",
   "nbconvert_exporter": "python",
   "pygments_lexer": "ipython3",
   "version": "3.8.12"
  },
  "toc": {
   "base_numbering": 1,
   "nav_menu": {},
   "number_sections": true,
   "sideBar": true,
   "skip_h1_title": false,
   "title_cell": "Table of Contents",
   "title_sidebar": "Contents",
   "toc_cell": false,
   "toc_position": {},
   "toc_section_display": true,
   "toc_window_display": false
  }
 },
 "nbformat": 4,
 "nbformat_minor": 4
}
